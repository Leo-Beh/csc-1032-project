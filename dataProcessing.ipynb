{
 "cells": [
  {
   "cell_type": "markdown",
   "id": "18aec88b-6ca9-4162-b298-36eaf494361d",
   "metadata": {},
   "source": [
    "# Data processing"
   ]
  },
  {
   "cell_type": "markdown",
   "id": "72e9e017-0297-4ae6-9315-4c2d2f7b1ce9",
   "metadata": {},
   "source": [
    "## Dealing with imbalanced dataset (REsampling)"
   ]
  },
  {
   "cell_type": "markdown",
   "id": "65742cb4-22be-4b6c-affb-e89a12b7b238",
   "metadata": {},
   "source": [
    "### Importing libraries:"
   ]
  },
  {
   "cell_type": "code",
   "execution_count": 9,
   "id": "5b497b05-3007-43a2-8b90-f2671ba4ca98",
   "metadata": {},
   "outputs": [],
   "source": [
    "import pandas as pd  # For data manipulation \n",
    "from imblearn.over_sampling import SMOTE  # For oversampling\n",
    "from imblearn.under_sampling import RandomUnderSampler  # For undersampling\n",
    "from sklearn.model_selection import train_test_split  # For spliting data into traininng and testing\n"
   ]
  },
  {
   "cell_type": "markdown",
   "id": "dd7d8e9b-0dcf-4e9d-923a-648cdc931e4a",
   "metadata": {},
   "source": [
    "### Loading dataset:"
   ]
  },
  {
   "cell_type": "code",
   "execution_count": 10,
   "id": "75633c71-3ba5-400e-bdc1-8fac25507151",
   "metadata": {},
   "outputs": [],
   "source": [
    "df = pd.read_csv(\"creditcard.csv\")  # Loading in dataset"
   ]
  },
  {
   "cell_type": "markdown",
   "id": "15232401-0e45-4034-8a34-db0a440b97e5",
   "metadata": {},
   "source": [
    "### Splitting attributes:"
   ]
  },
  {
   "cell_type": "code",
   "execution_count": 12,
   "id": "cdaeb7c4-d60e-47b5-addb-32f20bc34a69",
   "metadata": {},
   "outputs": [],
   "source": [
    "x = df.drop(\"Class\", axis=1)  # All attributes except Class\n",
    "y = df[\"Class\"]"
   ]
  },
  {
   "cell_type": "markdown",
   "id": "320cddb6-aaaf-4594-a132-428c9ebf4c61",
   "metadata": {},
   "source": [
    "### Training and test sets:"
   ]
  },
  {
   "cell_type": "code",
   "execution_count": 14,
   "id": "ef3053bf-a04c-4c29-9788-f39d5755602d",
   "metadata": {
    "scrolled": true
   },
   "outputs": [
    {
     "name": "stdout",
     "output_type": "stream",
     "text": [
      "Before resampling: Class\n",
      "0    227435\n",
      "1       410\n",
      "Name: count, dtype: int64\n"
     ]
    }
   ],
   "source": [
    "# Splits data into 80% training, 20% testing with seed set to 69 for reproduciability \n",
    "x_train, x_test, y_train, y_test = train_test_split(x, y, test_size = 0.2, random_state = 69)\n",
    "\n",
    "# Checks the data before resampling\n",
    "print(f\"Before resampling: {y_train.value_counts()}\")"
   ]
  },
  {
   "cell_type": "markdown",
   "id": "19515f7c-00f3-46c0-9211-fd38402eeabc",
   "metadata": {},
   "source": [
    "### Apply oversample:"
   ]
  },
  {
   "cell_type": "code",
   "execution_count": 15,
   "id": "0d34cb1a-758c-48d4-a04f-328a6a8613bf",
   "metadata": {},
   "outputs": [
    {
     "name": "stdout",
     "output_type": "stream",
     "text": [
      "After resample: Class\n",
      "0    227435\n",
      "1    227435\n",
      "Name: count, dtype: int64\n"
     ]
    }
   ],
   "source": [
    "# Apply SMOTE for oversampling the minority class\n",
    "smote = SMOTE(sampling_strategy = \"minority\", random_state = 69)\n",
    "xResample, yResample = smote.fit_resample(x_train, y_train)\n",
    "\n",
    "print(f\"After resample: {yResample.value_counts()}\")"
   ]
  },
  {
   "cell_type": "code",
   "execution_count": 17,
   "id": "b6aa2ebf-5340-4139-85b0-5dee33e15f72",
   "metadata": {},
   "outputs": [
    {
     "name": "stdout",
     "output_type": "stream",
     "text": [
      "After undersample: Class\n",
      "0    410\n",
      "1    410\n",
      "Name: count, dtype: int64\n"
     ]
    }
   ],
   "source": [
    "# Apple Random Undersampling for undersampling the majority class\n",
    "undersample = RandomUnderSampler(sampling_strategy = \"majority\", random_state = 69)\n",
    "x_resample, y_resample = undersample.fit_resample(x_train, y_train)\n",
    "\n",
    "# Checking to see the data after resampling\n",
    "print(f\"After undersample: {y_resample.value_counts()}\")"
   ]
  },
  {
   "cell_type": "markdown",
   "id": "38b98979-3b8e-4318-95d7-d8340a83041a",
   "metadata": {},
   "source": [
    "##### Why resample"
   ]
  },
  {
   "cell_type": "markdown",
   "id": "6dbd779f-d118-4f99-8669-103fd031147d",
   "metadata": {},
   "source": [
    "In an imbalanced datset, machine learning models ofthen become \"biased\" towards the majority class, as it dominates the data. The model may leaern to always predict the majority class, leading to high \"accuracy\", but low preformance when detecting the minority class (RISKY image approving a a frudulent tranaction or falsely diagnosing a positive patient, negative)\n",
    "\n",
    "(Also imagine a dataset where 98% of the data is negative(non-fradulent or negative patients), if the model simply predictis every patient or transaction to me negative then the model would have a 98% accuracy)"
   ]
  }
 ],
 "metadata": {
  "kernelspec": {
   "display_name": "Python 3 (ipykernel)",
   "language": "python",
   "name": "python3"
  },
  "language_info": {
   "codemirror_mode": {
    "name": "ipython",
    "version": 3
   },
   "file_extension": ".py",
   "mimetype": "text/x-python",
   "name": "python",
   "nbconvert_exporter": "python",
   "pygments_lexer": "ipython3",
   "version": "3.10.12"
  }
 },
 "nbformat": 4,
 "nbformat_minor": 5
}
